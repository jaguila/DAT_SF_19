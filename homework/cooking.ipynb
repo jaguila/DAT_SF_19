{
 "cells": [
  {
   "cell_type": "markdown",
   "metadata": {},
   "source": [
    "stuff to change and fixnltk use natural language processing to make big eggs to eggs\n",
    "\n",
    "look up frequency histogram of ingredients\n",
    "\n",
    "\n",
    "fusion recipe  evaluator?"
   ]
  },
  {
   "cell_type": "code",
   "execution_count": 2,
   "metadata": {
    "collapsed": false
   },
   "outputs": [],
   "source": [
    "import matplotlib.pyplot as plt\n",
    "import json\n",
    "import numpy as np\n",
    "from sklearn.ensemble import RandomForestClassifier, RandomForestRegressor\n",
    "from sklearn.cross_validation import cross_val_score\n",
    "import pandas as pd\n",
    "from collections import Counter\n",
    "%matplotlib inline"
   ]
  },
  {
   "cell_type": "code",
   "execution_count": 3,
   "metadata": {
    "collapsed": false
   },
   "outputs": [],
   "source": [
    "# upload\n",
    "loc=\"C:\\\\dex\\\\datascience\\\\kaggle\\\\cooking\\\\\"\n",
    "train=pd.read_json(loc+\"train.json\")"
   ]
  },
  {
   "cell_type": "code",
   "execution_count": 4,
   "metadata": {
    "collapsed": false
   },
   "outputs": [
    {
     "data": {
      "text/html": [
       "<div>\n",
       "<table border=\"1\" class=\"dataframe\">\n",
       "  <thead>\n",
       "    <tr style=\"text-align: right;\">\n",
       "      <th></th>\n",
       "      <th>cuisine</th>\n",
       "      <th>id</th>\n",
       "      <th>ingredients</th>\n",
       "    </tr>\n",
       "  </thead>\n",
       "  <tbody>\n",
       "    <tr>\n",
       "      <th>0</th>\n",
       "      <td>greek</td>\n",
       "      <td>10259</td>\n",
       "      <td>[romaine lettuce, black olives, grape tomatoes...</td>\n",
       "    </tr>\n",
       "    <tr>\n",
       "      <th>1</th>\n",
       "      <td>southern_us</td>\n",
       "      <td>25693</td>\n",
       "      <td>[plain flour, ground pepper, salt, tomatoes, g...</td>\n",
       "    </tr>\n",
       "    <tr>\n",
       "      <th>2</th>\n",
       "      <td>filipino</td>\n",
       "      <td>20130</td>\n",
       "      <td>[eggs, pepper, salt, mayonaise, cooking oil, g...</td>\n",
       "    </tr>\n",
       "    <tr>\n",
       "      <th>3</th>\n",
       "      <td>indian</td>\n",
       "      <td>22213</td>\n",
       "      <td>[water, vegetable oil, wheat, salt]</td>\n",
       "    </tr>\n",
       "    <tr>\n",
       "      <th>4</th>\n",
       "      <td>indian</td>\n",
       "      <td>13162</td>\n",
       "      <td>[black pepper, shallots, cornflour, cayenne pe...</td>\n",
       "    </tr>\n",
       "  </tbody>\n",
       "</table>\n",
       "</div>"
      ],
      "text/plain": [
       "       cuisine     id                                        ingredients\n",
       "0        greek  10259  [romaine lettuce, black olives, grape tomatoes...\n",
       "1  southern_us  25693  [plain flour, ground pepper, salt, tomatoes, g...\n",
       "2     filipino  20130  [eggs, pepper, salt, mayonaise, cooking oil, g...\n",
       "3       indian  22213                [water, vegetable oil, wheat, salt]\n",
       "4       indian  13162  [black pepper, shallots, cornflour, cayenne pe..."
      ]
     },
     "execution_count": 4,
     "metadata": {},
     "output_type": "execute_result"
    }
   ],
   "source": [
    "train.head()"
   ]
  },
  {
   "cell_type": "code",
   "execution_count": 7,
   "metadata": {
    "collapsed": false
   },
   "outputs": [
    {
     "name": "stdout",
     "output_type": "stream",
     "text": [
      "['greek', 'southern_us', 'filipino', 'indian', 'indian', 'jamaican', 'spanish', 'italian', 'mexican', 'italian', 'italian', 'chinese', 'italian', 'mexican', 'italian', 'indian', 'british', 'italian', 'thai', 'vietnamese']\n"
     ]
    }
   ],
   "source": [
    "# seperate dependent variable into array\n",
    "y_tr=train.values[:,0]\n",
    "y_tr=[x.encode('UTF8') for x in y_tr]\n"
   ]
  },
  {
   "cell_type": "code",
   "execution_count": 84,
   "metadata": {
    "collapsed": false
   },
   "outputs": [
    {
     "data": {
      "image/png": "[encoded data removed]",
      "text/plain": [
       "<matplotlib.figure.Figure at 0x2247c048>"
      ]
     },
     "metadata": {},
     "output_type": "display_data"
    }
   ],
   "source": [
    "# I used the counter function in order to find the counts of unique cuisines and placed it into a dictionary\n",
    "y_freq1=dict(Counter(y for y in y_tr))\n",
    "# print y_freq1\n",
    "plt.bar(range(len(y_freq1)), y_freq1.values())\n",
    "plt.xticks(range(len(y_freq1)), y_freq1.keys(), rotation=\"vertical\")\n",
    "plt.title(\"Frequency of Cuisines\")\n",
    "plt.show()\n"
   ]
  },
  {
   "cell_type": "code",
   "execution_count": 8,
   "metadata": {
    "collapsed": false
   },
   "outputs": [
    {
     "data": {
      "image/png": "[encoded data removed]",
      "text/plain": [
       "<matplotlib.figure.Figure at 0x428cc50>"
      ]
     },
     "metadata": {},
     "output_type": "display_data"
    }
   ],
   "source": [
    "# create bar graph\n",
    "# create dict for frequency of each type of cuisine(dependent variables)\n",
    "y_freq={}\n",
    "for y in y_tr:\n",
    "    if y_freq.has_key(y):\n",
    "        y_freq[y]=y_freq[y]+1\n",
    "    else:\n",
    "        y_freq[y]=1\n",
    "\n",
    "plt.bar(range(len(y_freq)), y_freq.values())\n",
    "plt.xticks(range(len(y_freq)), y_freq.keys(), rotation='vertical')\n",
    "plt.title(\"The frequency of cuisine types\")\n",
    "plt.show()"
   ]
  },
  {
   "cell_type": "code",
   "execution_count": 66,
   "metadata": {
    "collapsed": false
   },
   "outputs": [],
   "source": [
    "# place indep vars or features into array\n",
    "x_tr=train.values[:,2]"
   ]
  },
  {
   "cell_type": "code",
   "execution_count": 73,
   "metadata": {
    "collapsed": false
   },
   "outputs": [
    {
     "name": "stdout",
     "output_type": "stream",
     "text": [
      "[ [u'romaine lettuce', u'black olives', u'grape tomatoes', u'garlic', u'pepper', u'purple onion', u'seasoning', u'garbanzo beans', u'feta cheese crumbles']\n",
      " [u'plain flour', u'ground pepper', u'salt', u'tomatoes', u'ground black pepper', u'thyme', u'eggs', u'green tomatoes', u'yellow corn meal', u'milk', u'vegetable oil']\n",
      " [u'eggs', u'pepper', u'salt', u'mayonaise', u'cooking oil', u'green chilies', u'grilled chicken breasts', u'garlic powder', u'yellow onion', u'soy sauce', u'butter', u'chicken livers']\n",
      " [u'water', u'vegetable oil', u'wheat', u'salt']\n",
      " [u'black pepper', u'shallots', u'cornflour', u'cayenne pepper', u'onions', u'garlic paste', u'milk', u'butter', u'salt', u'lemon juice', u'water', u'chili powder', u'passata', u'oil', u'ground cumin', u'boneless chicken skinless thigh', u'garam masala', u'double cream', u'natural yogurt', u'bay leaf']\n",
      " [u'plain flour', u'sugar', u'butter', u'eggs', u'fresh ginger root', u'salt', u'ground cinnamon', u'milk', u'vanilla extract', u'ground ginger', u'powdered sugar', u'baking powder']\n",
      " [u'olive oil', u'salt', u'medium shrimp', u'pepper', u'garlic', u'chopped cilantro', u'jalapeno chilies', u'flat leaf parsley', u'skirt steak', u'white vinegar', u'sea salt', u'bay leaf', u'chorizo sausage']\n",
      " [u'sugar', u'pistachio nuts', u'white almond bark', u'flour', u'vanilla extract', u'olive oil', u'almond extract', u'eggs', u'baking powder', u'dried cranberries']\n",
      " [u'olive oil', u'purple onion', u'fresh pineapple', u'pork', u'poblano peppers', u'corn tortillas', u'cheddar cheese', u'ground black pepper', u'salt', u'iceberg lettuce', u'lime', u'jalapeno chilies', u'chopped cilantro fresh']\n",
      " [u'chopped tomatoes', u'fresh basil', u'garlic', u'extra-virgin olive oil', u'kosher salt', u'flat leaf parsley']\n",
      " [u'pimentos', u'sweet pepper', u'dried oregano', u'olive oil', u'garlic', u'sharp cheddar cheese', u'pepper', u'swiss cheese', u'provolone cheese', u'canola oil', u'mushrooms', u'black olives', u'sausages']\n",
      " [u'low sodium soy sauce', u'fresh ginger', u'dry mustard', u'green beans', u'white pepper', u'sesame oil', u'scallions', u'canola oil', u'sugar', u'Shaoxing wine', u'garlic', u'ground turkey', u'water', u'crushed red pepper flakes', u'corn starch']\n",
      " [u'Italian parsley leaves', u'walnuts', u'hot red pepper flakes', u'extra-virgin olive oil', u'fresh lemon juice', u'trout fillet', u'garlic cloves', u'chipotle chile', u'fine sea salt', u'flat leaf parsley']\n",
      " [u'ground cinnamon', u'fresh cilantro', u'chili powder', u'ground coriander', u'kosher salt', u'ground black pepper', u'garlic', u'plum tomatoes', u'avocado', u'lime juice', u'flank steak', u'salt', u'ground cumin', u'black pepper', u'olive oil', u'crushed red pepper flakes', u'onions']\n",
      " [u'fresh parmesan cheese', u'butter', u'all-purpose flour', u'fat free less sodium chicken broth', u'chopped fresh chives', u'gruyere cheese', u'ground black pepper', u'bacon slices', u'gnocchi', u'fat free milk', u'cooking spray', u'salt']\n",
      " [u'tumeric', u'vegetable stock', u'tomatoes', u'garam masala', u'naan', u'red lentils', u'red chili peppers', u'onions', u'spinach', u'sweet potatoes']\n",
      " [u'greek yogurt', u'lemon curd', u'confectioners sugar', u'raspberries']\n",
      " [u'italian seasoning', u'broiler-fryer chicken', u'mayonaise', u'zesty italian dressing']\n",
      " [u'sugar', u'hot chili', u'asian fish sauce', u'lime juice']\n",
      " [u'soy sauce', u'vegetable oil', u'red bell pepper', u'chicken broth', u'yellow squash', u'garlic chili sauce', u'sliced green onions', u'broccolini', u'salt', u'fresh lime juice', u'cooked rice', u'chicken breasts', u'corn starch']]\n"
     ]
    }
   ],
   "source": [
    "# how does the ingredients list look by itself unmunged?\n",
    "print x_tr[0:20]"
   ]
  },
  {
   "cell_type": "code",
   "execution_count": null,
   "metadata": {
    "collapsed": true
   },
   "outputs": [],
   "source": [
    "# data munging of the ingredients list and then frequency histogram of each of the ingredients\n",
    "\n",
    "# Find the counts of each unique ingredient\n",
    "x_tr_plt=dict(Counter(x for sublist in x_tr for x in sublist))\n"
   ]
  },
  {
   "cell_type": "code",
   "execution_count": 130,
   "metadata": {
    "collapsed": false
   },
   "outputs": [
    {
     "data": {
      "image/png": "[encoded data removed]",
      "text/plain": [
       "<matplotlib.figure.Figure at 0x2239b518>"
      ]
     },
     "metadata": {},
     "output_type": "display_data"
    }
   ],
   "source": [
    "# data munging of the ingredients list and then frequency histogram of each of the ingredients\n",
    "\n",
    "# Find the counts of each unique ingredient\n",
    "x_tr_plt=dict(Counter(x for sublist in x_tr for x in sublist))\n",
    "x_tr_plt1=dict((i, x_tr_plt[i]) for i in x_tr_plt if x_tr_plt[i] >2500)\n",
    "# print x_tr_plt1\n",
    "\n",
    "plt.bar(range(len(x_tr_plt1)), x_tr_plt1.values())\n",
    "plt.xticks(range(len(x_tr_plt1)), x_tr_plt1.keys(), rotation=\"vertical\")\n",
    "plt.title(\"Frequency histogram of all unique ingredients with frequencies above 2.5k\")\n",
    "plt.show()\n"
   ]
  },
  {
   "cell_type": "markdown",
   "metadata": {},
   "source": [
    " After reviewing this list of ingredients, you notice that there are redundant ingredients, so more datamunging must occur. For this I will use Natural Language processing"
   ]
  },
  {
   "cell_type": "code",
   "execution_count": null,
   "metadata": {
    "collapsed": true
   },
   "outputs": [],
   "source": []
  },
  {
   "cell_type": "code",
   "execution_count": 85,
   "metadata": {
    "collapsed": false
   },
   "outputs": [],
   "source": [
    "# join all the seperate lists into one list\n",
    "x_tr1=[', '.join(x) for x in x_tr]\n",
    "# count vectorizer will take a list of strings and then assign a vector for each word \n",
    "# then fron there it will assign a boolean value to it\n",
    "# print x_tr1\n",
    "\n",
    "from sklearn.feature_extraction.text import CountVectorizer\n",
    "vectorizer=CountVectorizer()\n",
    "\n",
    "# below sets the template for the vectorizer using the training dataset\n",
    "v=vectorizer.fit_transform(x_tr1).toarray()"
   ]
  },
  {
   "cell_type": "code",
   "execution_count": null,
   "metadata": {
    "collapsed": false
   },
   "outputs": [],
   "source": [
    "# set forest\n",
    "forest=RandomForestClassifier(15)\n",
    "# fit the forest\n",
    "pred=forest.fit(v,y_tr)\n"
   ]
  },
  {
   "cell_type": "code",
   "execution_count": 15,
   "metadata": {
    "collapsed": false
   },
   "outputs": [
    {
     "name": "stdout",
     "output_type": "stream",
     "text": [
      "[18009L 28583L 41580L ..., 22339L 42525L 1443L]\n",
      "3010\n"
     ]
    }
   ],
   "source": [
    "# import test dataset\n",
    "loc=\"C:\\\\dex\\\\datascience\\\\kaggle\\\\cooking\\\\\"\n",
    "test=pd.read_json(loc+\"test.json\")\n",
    "# test=test.values\n",
    "\n",
    "# join test lists\n",
    "\n",
    "t_tr=[' '.join(t) for t in test.values[:,1]]\n",
    "t_tr=np.asarray(t_tr)\n",
    "\n",
    "t_id=test.values[:,0]\n",
    "\n",
    "print t_id\n",
    "print len(vectorizer.get_feature_names())\n",
    "# predict\n",
    "# pred=forest.predict(t_vect)\n"
   ]
  },
  {
   "cell_type": "code",
   "execution_count": 16,
   "metadata": {
    "collapsed": false
   },
   "outputs": [
    {
     "name": "stdout",
     "output_type": "stream",
     "text": [
      "['italian' 'southern_us' 'italian' ..., 'italian' 'southern_us' 'mexican']\n"
     ]
    }
   ],
   "source": [
    "t_tr=[' '.join(t) for t in test.values[:,1]]\n",
    "\n",
    "# below uses the fitted vectorized template and then transforms the test dataset into vectors\n",
    "t_vect=vectorizer.transform(t_tr).toarray()\n",
    "\n",
    "\n",
    "# predicts using the fitted forest\n",
    "test_pred=forest.predict(t_vect)\n",
    "print test_pred"
   ]
  },
  {
   "cell_type": "code",
   "execution_count": 17,
   "metadata": {
    "collapsed": false
   },
   "outputs": [
    {
     "data": {
      "text/plain": [
       "{'bootstrap': True,\n",
       " 'class_weight': None,\n",
       " 'criterion': 'gini',\n",
       " 'max_depth': None,\n",
       " 'max_features': 'auto',\n",
       " 'max_leaf_nodes': None,\n",
       " 'min_samples_leaf': 1,\n",
       " 'min_samples_split': 2,\n",
       " 'min_weight_fraction_leaf': 0.0,\n",
       " 'n_estimators': 15,\n",
       " 'n_jobs': 1,\n",
       " 'oob_score': False,\n",
       " 'random_state': None,\n",
       " 'verbose': 0,\n",
       " 'warm_start': False}"
      ]
     },
     "execution_count": 17,
     "metadata": {},
     "output_type": "execute_result"
    }
   ],
   "source": [
    "forest.get_params()"
   ]
  },
  {
   "cell_type": "code",
   "execution_count": 18,
   "metadata": {
    "collapsed": false
   },
   "outputs": [],
   "source": [
    "from sklearn.cross_validation import cross_val_score"
   ]
  },
  {
   "cell_type": "code",
   "execution_count": 23,
   "metadata": {
    "collapsed": false
   },
   "outputs": [
    {
     "data": {
      "text/plain": [
       "array([ 0.71974666,  0.7144581 ,  0.71528826])"
      ]
     },
     "execution_count": 23,
     "metadata": {},
     "output_type": "execute_result"
    }
   ],
   "source": [
    "cross_val_score(forest, v, y_tr)"
   ]
  },
  {
   "cell_type": "code",
   "execution_count": 3,
   "metadata": {
    "collapsed": false
   },
   "outputs": [],
   "source": [
    "import csv"
   ]
  },
  {
   "cell_type": "code",
   "execution_count": null,
   "metadata": {
    "collapsed": false
   },
   "outputs": [],
   "source": []
  }
 ],
 "metadata": {
  "kernelspec": {
   "display_name": "Python 2",
   "language": "python",
   "name": "python2"
  },
  "language_info": {
   "codemirror_mode": {
    "name": "ipython",
    "version": 2
   },
   "file_extension": ".py",
   "mimetype": "text/x-python",
   "name": "python",
   "nbconvert_exporter": "python",
   "pygments_lexer": "ipython2",
   "version": "2.7.10"
  }
 },
 "nbformat": 4,
 "nbformat_minor": 0
}
