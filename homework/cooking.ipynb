{
 "cells": [
  {
   "cell_type": "markdown",
   "metadata": {},
   "source": [
    "stuff to change and fixnltk use natural language processing to make big eggs to eggs\n",
    "\n",
    "look up frequency histogram of ingredients\n",
    "\n",
    "\n",
    "fusion recipe  evaluator?"
   ]
  },
  {
   "cell_type": "code",
   "execution_count": 1,
   "metadata": {
    "collapsed": false
   },
   "outputs": [],
   "source": [
    "import matplotlib.pyplot as plt\n",
    "import json\n",
    "import numpy as np\n",
    "from sklearn.ensemble import RandomForestClassifier, RandomForestRegressor\n",
    "from sklearn.cross_validation import cross_val_score\n",
    "import pandas as pd\n",
    "from collections import Counter\n",
    "%matplotlib inline"
   ]
  },
  {
   "cell_type": "code",
   "execution_count": 2,
   "metadata": {
    "collapsed": false
   },
   "outputs": [],
   "source": [
    "# upload\n",
    "loc=\"C:\\\\Users\\user\\\\Desktop\\\\kaggle\\\\cooking\\\\\"\n",
    "train=pd.read_json(loc+\"train.json\")"
   ]
  },
  {
   "cell_type": "code",
   "execution_count": 3,
   "metadata": {
    "collapsed": false
   },
   "outputs": [
    {
     "data": {
      "text/html": [
       "<div>\n",
       "<table border=\"1\" class=\"dataframe\">\n",
       "  <thead>\n",
       "    <tr style=\"text-align: right;\">\n",
       "      <th></th>\n",
       "      <th>cuisine</th>\n",
       "      <th>id</th>\n",
       "      <th>ingredients</th>\n",
       "    </tr>\n",
       "  </thead>\n",
       "  <tbody>\n",
       "    <tr>\n",
       "      <th>0</th>\n",
       "      <td>greek</td>\n",
       "      <td>10259</td>\n",
       "      <td>[romaine lettuce, black olives, grape tomatoes...</td>\n",
       "    </tr>\n",
       "    <tr>\n",
       "      <th>1</th>\n",
       "      <td>southern_us</td>\n",
       "      <td>25693</td>\n",
       "      <td>[plain flour, ground pepper, salt, tomatoes, g...</td>\n",
       "    </tr>\n",
       "    <tr>\n",
       "      <th>2</th>\n",
       "      <td>filipino</td>\n",
       "      <td>20130</td>\n",
       "      <td>[eggs, pepper, salt, mayonaise, cooking oil, g...</td>\n",
       "    </tr>\n",
       "    <tr>\n",
       "      <th>3</th>\n",
       "      <td>indian</td>\n",
       "      <td>22213</td>\n",
       "      <td>[water, vegetable oil, wheat, salt]</td>\n",
       "    </tr>\n",
       "    <tr>\n",
       "      <th>4</th>\n",
       "      <td>indian</td>\n",
       "      <td>13162</td>\n",
       "      <td>[black pepper, shallots, cornflour, cayenne pe...</td>\n",
       "    </tr>\n",
       "  </tbody>\n",
       "</table>\n",
       "</div>"
      ],
      "text/plain": [
       "       cuisine     id                                        ingredients\n",
       "0        greek  10259  [romaine lettuce, black olives, grape tomatoes...\n",
       "1  southern_us  25693  [plain flour, ground pepper, salt, tomatoes, g...\n",
       "2     filipino  20130  [eggs, pepper, salt, mayonaise, cooking oil, g...\n",
       "3       indian  22213                [water, vegetable oil, wheat, salt]\n",
       "4       indian  13162  [black pepper, shallots, cornflour, cayenne pe..."
      ]
     },
     "execution_count": 3,
     "metadata": {},
     "output_type": "execute_result"
    }
   ],
   "source": [
    "train.head()"
   ]
  },
  {
   "cell_type": "code",
   "execution_count": 4,
   "metadata": {
    "collapsed": false
   },
   "outputs": [],
   "source": [
    "# seperate dependent variable into array\n",
    "y_tr=train.values[:,0]\n",
    "y_tr=[x.encode('UTF8') for x in y_tr]\n"
   ]
  },
  {
   "cell_type": "code",
   "execution_count": 5,
   "metadata": {
    "collapsed": false
   },
   "outputs": [
    {
     "data": {
      "image/png": "[encoded data removed]",
      "text/plain": [
       "<matplotlib.figure.Figure at 0x1f11e278>"
      ]
     },
     "metadata": {},
     "output_type": "display_data"
    }
   ],
   "source": [
    "# I used the counter function in order to find the counts of unique cuisines and placed it into a dictionary\n",
    "y_freq1=dict(Counter(y for y in y_tr))\n",
    "# print y_freq1\n",
    "plt.bar(range(len(y_freq1)), y_freq1.values())\n",
    "plt.xticks(range(len(y_freq1)), y_freq1.keys(), rotation=\"vertical\")\n",
    "plt.title(\"Frequency of Cuisines\")\n",
    "plt.show()\n"
   ]
  },
  {
   "cell_type": "code",
   "execution_count": 6,
   "metadata": {
    "collapsed": false
   },
   "outputs": [
    {
     "data": {
      "image/png": "[encoded data removed]",
      "text/plain": [
       "<matplotlib.figure.Figure at 0x22ad30f0>"
      ]
     },
     "metadata": {},
     "output_type": "display_data"
    }
   ],
   "source": [
    "# create bar graph\n",
    "# create dict for frequency of each type of cuisine(dependent variables)\n",
    "y_freq={}\n",
    "for y in y_tr:\n",
    "    if y_freq.has_key(y):\n",
    "        y_freq[y]=y_freq[y]+1\n",
    "    else:\n",
    "        y_freq[y]=1\n",
    "\n",
    "plt.bar(range(len(y_freq)), y_freq.values())\n",
    "plt.xticks(range(len(y_freq)), y_freq.keys(), rotation='vertical')\n",
    "plt.title(\"The frequency of cuisine types\")\n",
    "plt.show()"
   ]
  },
  {
   "cell_type": "code",
   "execution_count": 8,
   "metadata": {
    "collapsed": false
   },
   "outputs": [],
   "source": [
    "# place indep vars or features into array\n",
    "x_tr=train.values[:,2]"
   ]
  },
  {
   "cell_type": "code",
   "execution_count": 9,
   "metadata": {
    "collapsed": false
   },
   "outputs": [],
   "source": [
    "# how does the ingredients list look by itself unmunged?\n",
    "# print x_tr[0:20]"
   ]
  },
  {
   "cell_type": "code",
   "execution_count": 10,
   "metadata": {
    "collapsed": true
   },
   "outputs": [],
   "source": [
    "# data munging of the ingredients list and then frequency histogram of each of the ingredients\n",
    "\n",
    "# Find the counts of each unique ingredient\n",
    "x_tr_plt=dict(Counter(x for sublist in x_tr for x in sublist))\n"
   ]
  },
  {
   "cell_type": "code",
   "execution_count": 12,
   "metadata": {
    "collapsed": false,
    "scrolled": true
   },
   "outputs": [
    {
     "data": {
      "image/png": "[encoded data removed]",
      "text/plain": [
       "<matplotlib.figure.Figure at 0x243a4668>"
      ]
     },
     "metadata": {},
     "output_type": "display_data"
    }
   ],
   "source": [
    "# data munging of the ingredients list and then frequency histogram of each of the ingredients\n",
    "\n",
    "# Find the counts of each unique ingredient\n",
    "x_tr_plt=dict(Counter(x for sublist in x_tr for x in sublist))\n",
    "x_tr_plt1=dict((i, x_tr_plt[i]) for i in x_tr_plt if x_tr_plt[i] >2500)\n",
    "# print x_tr_plt1\n",
    "\n",
    "plt.bar(range(len(x_tr_plt1)), x_tr_plt1.values())\n",
    "plt.xticks(range(len(x_tr_plt1)), x_tr_plt1.keys(), rotation=\"vertical\")\n",
    "plt.title(\"Frequency histogram of all unique ingredients with frequencies above 2.5k\")\n",
    "plt.show()\n"
   ]
  },
  {
   "cell_type": "markdown",
   "metadata": {},
   "source": [
    " After reviewing this list of ingredients, you notice that there are redundant ingredients, so more datamunging must occur. For this I will use Natural Language processing"
   ]
  },
  {
   "cell_type": "code",
   "execution_count": 13,
   "metadata": {
    "collapsed": false
   },
   "outputs": [],
   "source": [
    "# split the words to their bases (aka tokenizing)\n",
    "# nltk.download()\n",
    "from nltk import word_tokenize\n",
    "import nltk\n",
    "\n",
    "tokens=[word_tokenize(ii) for i in x_tr for ii in i]\n"
   ]
  },
  {
   "cell_type": "code",
   "execution_count": 14,
   "metadata": {
    "collapsed": false,
    "scrolled": false
   },
   "outputs": [],
   "source": [
    "# flatten list, generate a dictionary, then reference the list to find it\n",
    "from itertools import chain\n",
    "tok_flat=chain(*tokens)\n",
    "flat_for_tag=list(set(list(tok_flat)))\n",
    "\n"
   ]
  },
  {
   "cell_type": "code",
   "execution_count": 15,
   "metadata": {
    "collapsed": false
   },
   "outputs": [
    {
     "data": {
      "text/plain": [
       "3554"
      ]
     },
     "execution_count": 15,
     "metadata": {},
     "output_type": "execute_result"
    }
   ],
   "source": [
    "# print flat_for_tag\n",
    "len(flat_for_tag)"
   ]
  },
  {
   "cell_type": "code",
   "execution_count": 16,
   "metadata": {
    "collapsed": false
   },
   "outputs": [],
   "source": [
    "# tag all the tokens for the type of word they are(adj, noun verb)\n",
    "# tagged=[nltk.pos_tag(i) for i in tokens[0:10]]\n",
    "tagged=nltk.pos_tag(flat_for_tag)\n",
    "\n",
    "    "
   ]
  },
  {
   "cell_type": "code",
   "execution_count": 17,
   "metadata": {
    "collapsed": false
   },
   "outputs": [],
   "source": [
    "# take the list of the tagged words and insert it into a usable dictionary\n",
    "from collections import defaultdict\n",
    "tagged_dict=defaultdict(list)\n",
    "for i,v in tagged:\n",
    "    if v not in tagged_dict.keys():\n",
    "        tagged_dict[v]=list()\n",
    "        tagged_dict[v].append(i)\n",
    "    else:\n",
    "        tagged_dict[v].append(i)    \n",
    "# print tagged_dict2['JJ']\n",
    "\n"
   ]
  },
  {
   "cell_type": "code",
   "execution_count": 18,
   "metadata": {
    "collapsed": false
   },
   "outputs": [],
   "source": [
    "# adjectives removed\n",
    "x_tr_adj=[]\n",
    "for sublist in x_tr:\n",
    "    inter_list=[]\n",
    "    for i in sublist:\n",
    "        for ii in i.split(' '):\n",
    "            if ii not in tagged_dict['JJ'] and ii != 'unsalted':\n",
    "                inter_list.append(ii)\n",
    "    x_tr_adj.append(inter_list)\n",
    "# print x_tr_adj\n"
   ]
  },
  {
   "cell_type": "code",
   "execution_count": 19,
   "metadata": {
    "collapsed": false
   },
   "outputs": [
    {
     "data": {
      "image/png": "[encoded data removed]",
      "text/plain": [
       "<matplotlib.figure.Figure at 0x1f3e5588>"
      ]
     },
     "metadata": {},
     "output_type": "display_data"
    }
   ],
   "source": [
    "# show top list of ingredients that have a frequency higher than 2500\n",
    "tagged_norm=dict(Counter(i for sublist in x_tr_adj for i in sublist))\n",
    "# values over 2500\n",
    "tagged_norm2=dict((i,tagged_norm[i]) for i in tagged_norm if tagged_norm[i]>2500)\n",
    "\n",
    "plt.bar(range(len(tagged_norm2)), tagged_norm2.values())\n",
    "plt.xticks(range(len(tagged_norm2)), tagged_norm2.keys(), rotation='vertical')\n",
    "plt.title('Ingredients with a frequency higher than 2500')\n",
    "plt.show()\n"
   ]
  },
  {
   "cell_type": "code",
   "execution_count": null,
   "metadata": {
    "collapsed": true
   },
   "outputs": [],
   "source": [
    "# This new graph of the data now shows that the adjectives are removed."
   ]
  },
  {
   "cell_type": "code",
   "execution_count": 21,
   "metadata": {
    "collapsed": false
   },
   "outputs": [
    {
     "data": {
      "text/plain": [
       "GaussianNB()"
      ]
     },
     "execution_count": 21,
     "metadata": {},
     "output_type": "execute_result"
    }
   ],
   "source": [
    "from sklearn.naive_bayes import GaussianNB as NB\n",
    "clf=NB()\n",
    "\n",
    "x_tr1=[', '.join(x) for x in x_tr_adj]\n",
    "from sklearn.feature_extraction.text import CountVectorizer\n",
    "vectorizer=CountVectorizer()\n",
    "\n",
    "# below sets the template for the vectorizer using the training dataset\n",
    "v=vectorizer.fit_transform(x_tr1).toarray()\n",
    "clf.fit(v, y_tr)"
   ]
  },
  {
   "cell_type": "code",
   "execution_count": 22,
   "metadata": {
    "collapsed": false
   },
   "outputs": [
    {
     "name": "stdout",
     "output_type": "stream",
     "text": [
      "['jamaican' 'british' 'moroccan' ..., 'cajun_creole' 'cajun_creole'\n",
      " 'spanish']\n"
     ]
    }
   ],
   "source": [
    "# import test data and remove adjectives\n",
    "\n",
    "test=pd.read_json(loc+'test.json')\n",
    "x_test=test.values[:,1]\n",
    "# print x_test[0:20]\n",
    "\n",
    "x_test_adj=[]\n",
    "for sublist in x_test:\n",
    "    inter_list=[]\n",
    "    for i in sublist:\n",
    "        for ii in i.split(' '):\n",
    "            if ii not in tagged_dict['JJ'] and ii != 'unsalted':\n",
    "                inter_list.append(ii)\n",
    "    x_test_adj.append(inter_list)\n",
    "\n",
    "\n",
    "x_test1=[', '.join(x) for x in x_test_adj]\n",
    "x_test2=vectorizer.transform(x_test1).toarray()\n",
    "# print x_test1[0:20]\n",
    "pred=clf.predict(x_test2)\n",
    "print pred"
   ]
  },
  {
   "cell_type": "code",
   "execution_count": 23,
   "metadata": {
    "collapsed": false
   },
   "outputs": [],
   "source": [
    "y_labels=test.values[:, 0]\n",
    "y_labels=map(int, y_labels)\n",
    "submission=zip(y_labels, pred)\n",
    "# for i,v in submission[0:20]:\n",
    "#     print i,v"
   ]
  },
  {
   "cell_type": "code",
   "execution_count": 110,
   "metadata": {
    "collapsed": false
   },
   "outputs": [],
   "source": [
    "import csv\n",
    "with open(loc+\"submission.csv\", 'wb') as f:\n",
    "    w=csv.writer(f)\n",
    "    w.writerow(('id', 'cuisine'))\n",
    "    for i,v in submission:\n",
    "        w.writerow((i,v))\n"
   ]
  },
  {
   "cell_type": "code",
   "execution_count": 31,
   "metadata": {
    "collapsed": false
   },
   "outputs": [],
   "source": [
    "from sklearn.ensemble import RandomForestClassifier as RF\n",
    "clf2=RF()\n",
    "# normalize labels\n",
    "from sklearn import preprocessing as pp\n",
    "le=pp.LabelEncoder()\n",
    "le.fit(y_tr)\n",
    "list(le.classes_)\n",
    "y_tr1=le.transform(y_tr)\n",
    "# print y_tr1\n",
    "clf2.fit(v, y_tr)\n",
    "pred2=clf2.predict(x_test2)\n",
    "# print v"
   ]
  },
  {
   "cell_type": "code",
   "execution_count": 32,
   "metadata": {
    "collapsed": true
   },
   "outputs": [],
   "source": [
    "submission2=zip(y_labels, pred2)\n",
    "import csv\n",
    "with open(loc+\"submission2.csv\", 'wb') as f:\n",
    "    w=csv.writer(f)\n",
    "    w.writerow(('id', 'cuisine'))\n",
    "    for i,v in submission:\n",
    "        w.writerow((i,v))\n"
   ]
  },
  {
   "cell_type": "code",
   "execution_count": 37,
   "metadata": {
    "collapsed": false
   },
   "outputs": [
    {
     "data": {
      "image/png": "[encoded data removed]",
      "text/plain": [
       "<matplotlib.figure.Figure at 0x2b0b22b0>"
      ]
     },
     "metadata": {},
     "output_type": "display_data"
    }
   ],
   "source": [
    "# graph the new frequency of the munged ingredients list\n",
    "c_list_a5k=dict((i, float(c_list[i])/1000) for i in c_list if c_list[i]>4000)\n",
    "# print c_list_a5k\n",
    "# print len(c_list_a5k)\n",
    "plt.bar(range(len(c_list_a5k)), c_list_a5k.values())\n",
    "plt.xticks(range(len(c_list_a5k)), c_list_a5k.keys(), rotation=\"vertical\")\n",
    "plt.title(\"The frequency of the Munged ingredients list above 2.5k\")\n",
    "plt.show()"
   ]
  },
  {
   "cell_type": "code",
   "execution_count": null,
   "metadata": {
    "collapsed": true
   },
   "outputs": [],
   "source": [
    "# Use Naive Bayes to classify\n",
    "# remember naive bayes is a classifier that uses prior probability of overall occurences\n",
    "# times the probability given specific features\n",
    "\n",
    "\n",
    "from sklearn import GaussianNB"
   ]
  },
  {
   "cell_type": "code",
   "execution_count": 85,
   "metadata": {
    "collapsed": false
   },
   "outputs": [],
   "source": [
    "# join all the seperate lists into one list\n",
    "x_tr1=[', '.join(x) for x in x_tr]\n",
    "# count vectorizer will take a list of strings and then assign a vector for each word \n",
    "# then fron there it will assign a boolean value to it\n",
    "# print x_tr1\n",
    "\n",
    "from sklearn.feature_extraction.text import CountVectorizer\n",
    "vectorizer=CountVectorizer()\n",
    "\n",
    "# below sets the template for the vectorizer using the training dataset\n",
    "v=vectorizer.fit_transform(x_tr1).toarray()"
   ]
  },
  {
   "cell_type": "code",
   "execution_count": null,
   "metadata": {
    "collapsed": false
   },
   "outputs": [],
   "source": [
    "# set forest\n",
    "forest=RandomForestClassifier(15)\n",
    "# fit the forest\n",
    "pred=forest.fit(v,y_tr)\n"
   ]
  },
  {
   "cell_type": "code",
   "execution_count": 15,
   "metadata": {
    "collapsed": false
   },
   "outputs": [
    {
     "name": "stdout",
     "output_type": "stream",
     "text": [
      "[18009L 28583L 41580L ..., 22339L 42525L 1443L]\n",
      "3010\n"
     ]
    }
   ],
   "source": [
    "# import test dataset\n",
    "loc=\"C:\\\\dex\\\\datascience\\\\kaggle\\\\cooking\\\\\"\n",
    "test=pd.read_json(loc+\"test.json\")\n",
    "# test=test.values\n",
    "\n",
    "# join test lists\n",
    "\n",
    "t_tr=[' '.join(t) for t in test.values[:,1]]\n",
    "t_tr=np.asarray(t_tr)\n",
    "\n",
    "t_id=test.values[:,0]\n",
    "\n",
    "print t_id\n",
    "print len(vectorizer.get_feature_names())\n",
    "# predict\n",
    "# pred=forest.predict(t_vect)\n"
   ]
  },
  {
   "cell_type": "code",
   "execution_count": 16,
   "metadata": {
    "collapsed": false
   },
   "outputs": [
    {
     "name": "stdout",
     "output_type": "stream",
     "text": [
      "['italian' 'southern_us' 'italian' ..., 'italian' 'southern_us' 'mexican']\n"
     ]
    }
   ],
   "source": [
    "t_tr=[' '.join(t) for t in test.values[:,1]]\n",
    "\n",
    "# below uses the fitted vectorized template and then transforms the test dataset into vectors\n",
    "t_vect=vectorizer.transform(t_tr).toarray()\n",
    "\n",
    "\n",
    "# predicts using the fitted forest\n",
    "test_pred=forest.predict(t_vect)\n",
    "print test_pred"
   ]
  },
  {
   "cell_type": "code",
   "execution_count": 17,
   "metadata": {
    "collapsed": false
   },
   "outputs": [
    {
     "data": {
      "text/plain": [
       "{'bootstrap': True,\n",
       " 'class_weight': None,\n",
       " 'criterion': 'gini',\n",
       " 'max_depth': None,\n",
       " 'max_features': 'auto',\n",
       " 'max_leaf_nodes': None,\n",
       " 'min_samples_leaf': 1,\n",
       " 'min_samples_split': 2,\n",
       " 'min_weight_fraction_leaf': 0.0,\n",
       " 'n_estimators': 15,\n",
       " 'n_jobs': 1,\n",
       " 'oob_score': False,\n",
       " 'random_state': None,\n",
       " 'verbose': 0,\n",
       " 'warm_start': False}"
      ]
     },
     "execution_count": 17,
     "metadata": {},
     "output_type": "execute_result"
    }
   ],
   "source": [
    "forest.get_params()"
   ]
  },
  {
   "cell_type": "code",
   "execution_count": 18,
   "metadata": {
    "collapsed": false
   },
   "outputs": [],
   "source": [
    "from sklearn.cross_validation import cross_val_score"
   ]
  },
  {
   "cell_type": "code",
   "execution_count": 23,
   "metadata": {
    "collapsed": false
   },
   "outputs": [
    {
     "data": {
      "text/plain": [
       "array([ 0.71974666,  0.7144581 ,  0.71528826])"
      ]
     },
     "execution_count": 23,
     "metadata": {},
     "output_type": "execute_result"
    }
   ],
   "source": [
    "cross_val_score(forest, v, y_tr)"
   ]
  },
  {
   "cell_type": "code",
   "execution_count": 3,
   "metadata": {
    "collapsed": false
   },
   "outputs": [],
   "source": [
    "import csv"
   ]
  },
  {
   "cell_type": "code",
   "execution_count": null,
   "metadata": {
    "collapsed": false
   },
   "outputs": [],
   "source": []
  }
 ],
 "metadata": {
  "kernelspec": {
   "display_name": "Python 2",
   "language": "python",
   "name": "python2"
  },
  "language_info": {
   "codemirror_mode": {
    "name": "ipython",
    "version": 2
   },
   "file_extension": ".py",
   "mimetype": "text/x-python",
   "name": "python",
   "nbconvert_exporter": "python",
   "pygments_lexer": "ipython2",
   "version": "2.7.10"
  }
 },
 "nbformat": 4,
 "nbformat_minor": 0
}
