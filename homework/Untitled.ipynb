{
 "cells": [
  {
   "cell_type": "markdown",
   "metadata": {},
   "source": [
    "model evaluation\n",
    "\n",
    "Type 1 error= False positive\n",
    "type 2 error = false negative\n",
    "\n",
    "ROC curve\n",
    "    receiver operator characteristic curve\n",
    "    tradeoff of sensitivity or TP/all positive\n",
    "    best tradeoff is when high true positive rate and low false positive rate\n",
    "    evaluate classifier by area under curve\n",
    "Logistic regression and naive bayes\n",
    "    -> actually give you percentage predictions\n",
    "    -> you can change the Prediction level"
   ]
  }
 ],
 "metadata": {
  "kernelspec": {
   "display_name": "Python 2",
   "language": "python",
   "name": "python2"
  },
  "language_info": {
   "codemirror_mode": {
    "name": "ipython",
    "version": 2
   },
   "file_extension": ".py",
   "mimetype": "text/x-python",
   "name": "python",
   "nbconvert_exporter": "python",
   "pygments_lexer": "ipython2",
   "version": "2.7.11"
  }
 },
 "nbformat": 4,
 "nbformat_minor": 0
}
