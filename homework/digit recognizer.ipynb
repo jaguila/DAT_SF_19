{
 "cells": [
  {
   "cell_type": "markdown",
   "metadata": {},
   "source": [
    "Kaggle competition\n",
    "\n",
    "Goal: use pixel data from hand drawn digits to be able to recognize digits.\n",
    "\n",
    "Data: The values in the pixel data are integers 0-255 which indicate the lightness or darkness of the pixel\n",
    "\n",
    "\n"
   ]
  },
  {
   "cell_type": "code",
   "execution_count": 1,
   "metadata": {
    "collapsed": true
   },
   "outputs": [],
   "source": [
    "import pandas as pd\n",
    "import numpy as np\n",
    "import matplotlib.pyplot as plt\n",
    "%matplotlib inline"
   ]
  },
  {
   "cell_type": "code",
   "execution_count": 2,
   "metadata": {
    "collapsed": false
   },
   "outputs": [],
   "source": [
    "# import training file\n",
    "loc=\"C:\\\\Users\\\\user\\\\Desktop\\\\kaggle\\\\digit_recog\\\\\"\n",
    "raw_train=pd.read_csv(loc+\"train.csv\")"
   ]
  },
  {
   "cell_type": "code",
   "execution_count": 3,
   "metadata": {
    "collapsed": false
   },
   "outputs": [
    {
     "name": "stdout",
     "output_type": "stream",
     "text": [
      "[[0 0 0 ..., 0 0 0]\n",
      " [0 0 0 ..., 0 0 0]\n",
      " [0 0 0 ..., 0 0 0]\n",
      " ..., \n",
      " [0 0 0 ..., 0 0 0]\n",
      " [0 0 0 ..., 0 0 0]\n",
      " [0 0 0 ..., 0 0 0]]\n"
     ]
    }
   ],
   "source": [
    "# assign labels\n",
    "y_tr=raw_train.values[:,0]\n",
    "#assign features\n",
    "x_tr=raw_train.values[:,1:]\n",
    "\n",
    "print x_tr[0:20]"
   ]
  },
  {
   "cell_type": "code",
   "execution_count": 4,
   "metadata": {
    "collapsed": false
   },
   "outputs": [],
   "source": [
    "# create a histogram of the labels\n",
    "from collections import Counter\n",
    "y_tr_plt=dict(Counter(y for y in y_tr))\n"
   ]
  },
  {
   "cell_type": "code",
   "execution_count": 5,
   "metadata": {
    "collapsed": false,
    "scrolled": true
   },
   "outputs": [
    {
     "data": {
      "image/png": "[encoded data removed]",
      "text/plain": [
       "<matplotlib.figure.Figure at 0x3cdfe48>"
      ]
     },
     "metadata": {},
     "output_type": "display_data"
    }
   ],
   "source": [
    "# x_tr_plt1=dict((x,x_tr_plt[x]) for x in x_tr_plt if x_tr_plt[x]>10)\n",
    "\n",
    "plt.bar(range(len(y_tr_plt)), y_tr_plt.values())\n",
    "plt.xticks(range(len(y_tr_plt)), y_tr_plt.keys(), rotation=\"vertical\")\n",
    "plt.title(\"frequency of labels\")\n",
    "plt.show()"
   ]
  },
  {
   "cell_type": "markdown",
   "metadata": {},
   "source": [
    "Nothing of note from this"
   ]
  },
  {
   "cell_type": "code",
   "execution_count": 6,
   "metadata": {
    "collapsed": false
   },
   "outputs": [],
   "source": [
    "# create a histogram of pixel usage\n",
    "\n",
    "x_tr_col=list(raw_train.columns.values[1:])\n",
    "# print x_tr_col\n",
    "\n",
    "# x_tr_df=raw_train[x_tr_col].head()\n",
    "\n",
    "# create a new dictionary for all values that are higher than 0\n",
    "x_tr_df={}\n",
    "for x in raw_train[x_tr_col]:\n",
    "    sublist=[]\n",
    "    for xx in raw_train[x]:\n",
    "        if xx>0:\n",
    "#             print xx\n",
    "            sublist.append(xx)        \n",
    "    x_tr_df[x]=sublist\n",
    "# print x_tr_df\n",
    "\n",
    "\n",
    "\n"
   ]
  },
  {
   "cell_type": "code",
   "execution_count": 7,
   "metadata": {
    "collapsed": false
   },
   "outputs": [
    {
     "data": {
      "text/plain": [
       "66"
      ]
     },
     "execution_count": 7,
     "metadata": {},
     "output_type": "execute_result"
    }
   ],
   "source": [
    "x_tr_df1=dict((i, len(x_tr_df[i])) for i in x_tr_df if len(x_tr_df[i])>25000)\n",
    "# number of values that fit condition above\n",
    "len(x_tr_df1)"
   ]
  },
  {
   "cell_type": "code",
   "execution_count": 8,
   "metadata": {
    "collapsed": false,
    "scrolled": true
   },
   "outputs": [
    {
     "data": {
      "image/png": "[encoded data removed]",
      "text/plain": [
       "<matplotlib.figure.Figure at 0x124b82b0>"
      ]
     },
     "metadata": {},
     "output_type": "display_data"
    }
   ],
   "source": [
    "# create a dataframe that contains only values above 0\n",
    "# x_tr_df1=pd.DataFrame.from_dict(x_tr_df)\n",
    "\n",
    "plt.bar(range(len(x_tr_df1)), x_tr_df1.values())\n",
    "plt.xticks(range(len(x_tr_df1)), x_tr_df1.keys(), rotation=\"vertical\")\n",
    "plt.show()"
   ]
  },
  {
   "cell_type": "code",
   "execution_count": null,
   "metadata": {
    "collapsed": false
   },
   "outputs": [],
   "source": [
    "# create a table of the different ranges of values for each pixel [values 0:255]\n",
    "from collections import Counter\n",
    "x_tr_dknes=dict(Counter(x for sublist in x_tr for x in sublist))\n",
    "x_tr_dknes1=dict((x,x_tr_dknes[x]/20000) for x in x_tr_dknes if x_tr_dknes[x]>20000)\n",
    "\n",
    "# plot the counter\n",
    "plt.bar(range(len(x_tr_dknes1)), x_tr_dknes1.values())\n",
    "plt.xticks(range(len(x_tr_dknes1)), x_tr_dknes1.keys(), rotation=\"vertical\")\n",
    "plt.show()\n"
   ]
  },
  {
   "cell_type": "code",
   "execution_count": null,
   "metadata": {
    "collapsed": false
   },
   "outputs": [],
   "source": [
    "# print x_tr_dknes\n",
    "x_tr_dk=pd.DataFrame(x_tr_dknes.items(), columns=['pixelvalue', 'count'])\n",
    "x_tr_dk.describe()"
   ]
  },
  {
   "cell_type": "markdown",
   "metadata": {},
   "source": [
    "in order to clean some of the data i will change the pixel values that have counts below 25% to zero. The darkness of those pixels being so light may have to do with the fact that these pixels are associated with the end of the word.\n"
   ]
  },
  {
   "cell_type": "code",
   "execution_count": null,
   "metadata": {
    "collapsed": true
   },
   "outputs": [],
   "source": [
    "# use naive bayes classifier ( prior probability * probability given features)\n",
    "from sklearn.naive_bayes import GaussianNB as NB"
   ]
  },
  {
   "cell_type": "code",
   "execution_count": null,
   "metadata": {
    "collapsed": false
   },
   "outputs": [],
   "source": [
    "clf=NB()\n",
    "clf.fit(x_tr,y_tr)"
   ]
  },
  {
   "cell_type": "code",
   "execution_count": 11,
   "metadata": {
    "collapsed": true
   },
   "outputs": [],
   "source": [
    "y_test=pd.read_csv(loc+\"test.csv\")"
   ]
  },
  {
   "cell_type": "code",
   "execution_count": null,
   "metadata": {
    "collapsed": false
   },
   "outputs": [],
   "source": [
    "pred=clf.predict(y_test)\n",
    "pred=pred.tolist()\n",
    "pred=[int(i) for i in pred]\n",
    "print pred"
   ]
  },
  {
   "cell_type": "code",
   "execution_count": null,
   "metadata": {
    "collapsed": false
   },
   "outputs": [],
   "source": [
    "\n",
    "# export predictions into a csv file\n",
    "\n",
    "import csv\n",
    "\n",
    "\n",
    "with open(loc+'submission.csv', 'wb') as f:  # Just use 'w' mode in 3.x\n",
    "    w = csv.writer(f)\n",
    "    w.writerow([\"imageid\", \"label\"])\n",
    "\n",
    "    for i,v in enumerate(pred, start=1):\n",
    "        w.writerow([i,v])\n"
   ]
  },
  {
   "cell_type": "markdown",
   "metadata": {},
   "source": [
    "The Naive Bayes classifier produced an 0.51457 result. "
   ]
  },
  {
   "cell_type": "code",
   "execution_count": null,
   "metadata": {
    "collapsed": false
   },
   "outputs": [],
   "source": [
    "len(pred)"
   ]
  },
  {
   "cell_type": "code",
   "execution_count": null,
   "metadata": {
    "collapsed": false
   },
   "outputs": [],
   "source": [
    "from sklearn.svm import SVC\n",
    "clf2=SVC()\n",
    "clf2.fit(x_tr, y_tr)\n",
    "pred2=clf2.predict(y_test)\n"
   ]
  },
  {
   "cell_type": "code",
   "execution_count": null,
   "metadata": {
    "collapsed": true
   },
   "outputs": [],
   "source": [
    "print pred"
   ]
  },
  {
   "cell_type": "code",
   "execution_count": 9,
   "metadata": {
    "collapsed": false
   },
   "outputs": [
    {
     "data": {
      "text/plain": [
       "SGDClassifier(alpha=0.0001, average=False, class_weight=None, epsilon=0.1,\n",
       "       eta0=0.0, fit_intercept=True, l1_ratio=0.15,\n",
       "       learning_rate='optimal', loss='hinge', n_iter=5, n_jobs=1,\n",
       "       penalty='l2', power_t=0.5, random_state=None, shuffle=True,\n",
       "       verbose=0, warm_start=False)"
      ]
     },
     "execution_count": 9,
     "metadata": {},
     "output_type": "execute_result"
    }
   ],
   "source": [
    "# I will try to use the SGD Classifier instead as there are more than 100k datarows\n",
    "\n",
    "from sklearn.linear_model import SGDClassifier as SGD\n",
    "\n",
    "clf3=SGD()\n",
    "clf3.fit(x_tr, y_tr)"
   ]
  },
  {
   "cell_type": "code",
   "execution_count": 12,
   "metadata": {
    "collapsed": false
   },
   "outputs": [
    {
     "name": "stdout",
     "output_type": "stream",
     "text": [
      "[2 0 9 ..., 3 9 2]\n"
     ]
    }
   ],
   "source": [
    "pred3=clf3.predict(y_test)"
   ]
  },
  {
   "cell_type": "code",
   "execution_count": 13,
   "metadata": {
    "collapsed": true
   },
   "outputs": [],
   "source": [
    "import csv\n",
    "\n",
    "\n",
    "with open(loc+'submission2.csv', 'wb') as f:  # Just use 'w' mode in 3.x\n",
    "    w = csv.writer(f)\n",
    "    w.writerow([\"imageid\", \"label\"])\n",
    "    for i,v in enumerate(pred3, start=1):\n",
    "        w.writerow([i,v])\n"
   ]
  },
  {
   "cell_type": "markdown",
   "metadata": {},
   "source": [
    "This produces a score of 0.84829!"
   ]
  },
  {
   "cell_type": "code",
   "execution_count": 14,
   "metadata": {
    "collapsed": false
   },
   "outputs": [
    {
     "data": {
      "text/plain": [
       "RandomForestClassifier(bootstrap=True, class_weight=None, criterion='gini',\n",
       "            max_depth=None, max_features='auto', max_leaf_nodes=None,\n",
       "            min_samples_leaf=1, min_samples_split=2,\n",
       "            min_weight_fraction_leaf=0.0, n_estimators=10, n_jobs=1,\n",
       "            oob_score=False, random_state=None, verbose=0,\n",
       "            warm_start=False)"
      ]
     },
     "execution_count": 14,
     "metadata": {},
     "output_type": "execute_result"
    }
   ],
   "source": [
    "from sklearn.ensemble import RandomForestClassifier as RF\n",
    "clf4=RF()\n",
    "clf4.fit(x_tr, y_tr)"
   ]
  },
  {
   "cell_type": "code",
   "execution_count": 17,
   "metadata": {
    "collapsed": false
   },
   "outputs": [
    {
     "name": "stdout",
     "output_type": "stream",
     "text": [
      "[2 0 9 ..., 3 9 2]\n"
     ]
    }
   ],
   "source": [
    "pred4=clf4.predict(y_test)\n",
    "print pred4"
   ]
  },
  {
   "cell_type": "code",
   "execution_count": 19,
   "metadata": {
    "collapsed": false
   },
   "outputs": [],
   "source": [
    "with open(loc+'submission3.csv', 'wb') as f:\n",
    "    w=csv.writer(f)\n",
    "    w.writerow(['imageid','label'])\n",
    "    for i,v in enumerate(pred4, start=1):\n",
    "        w.writerow([i,v])"
   ]
  },
  {
   "cell_type": "markdown",
   "metadata": {},
   "source": [
    "This produces a score of 0.941 which is only 6% off from 100%!"
   ]
  }
 ],
 "metadata": {
  "kernelspec": {
   "display_name": "Python 2",
   "language": "python",
   "name": "python2"
  },
  "language_info": {
   "codemirror_mode": {
    "name": "ipython",
    "version": 2
   },
   "file_extension": ".py",
   "mimetype": "text/x-python",
   "name": "python",
   "nbconvert_exporter": "python",
   "pygments_lexer": "ipython2",
   "version": "2.7.10"
  }
 },
 "nbformat": 4,
 "nbformat_minor": 0
}
